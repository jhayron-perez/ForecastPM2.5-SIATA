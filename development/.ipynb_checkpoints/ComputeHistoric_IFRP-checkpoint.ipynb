{
 "cells": [
  {
   "cell_type": "code",
   "execution_count": 1,
   "id": "d6036258",
   "metadata": {},
   "outputs": [
    {
     "name": "stdout",
     "output_type": "stream",
     "text": [
      "Warning: ecCodes 2.21.0 or higher is recommended. You are running version 2.19.1\n",
      "(2980521, 15)\n"
     ]
    }
   ],
   "source": [
    "import geopandas as gpd\n",
    "from shapely.geometry import Polygon, LineString, Point\n",
    "import shapely.geometry as ss\n",
    "import numpy as np\n",
    "import os, glob\n",
    "from netCDF4 import Dataset\n",
    "import matplotlib.pyplot as plt\n",
    "import pandas as pd\n",
    "import xarray as xr\n",
    "\n",
    "path_files = '/var/data1/AQ_Forecast_DATA/historic/GFS/historic/Vientos/BT/'\n",
    "\n",
    "#################### LECTURA INCENDOS HISTÓRICOS ########################\n",
    "import datetime as dt\n",
    "df_fires = pd.read_csv('/var/data1/AQ_Forecast_DATA/historic/Fires/fire_archive_M-C61_246192.csv')\n",
    "\n",
    "str_time = df_fires['acq_time'].values.astype(str)\n",
    "str_time = np.array([str_time[i].zfill(4) for i in range(len(str_time))])\n",
    "str_date = df_fires['acq_date'].values.astype(str)\n",
    "\n",
    "dates_fires = np.array([dt.datetime.strptime(str_date[i]+' '+str_time[i],'%Y-%m-%d %H%M').replace(minute = 0) \\\n",
    "    for i in range(len(str_time))])\n",
    "df_fires.index = dates_fires\n",
    "#df_fires.index = df_fires.index - dt.timedelta(hours = 5)\n",
    "print(df_fires.shape)"
   ]
  },
  {
   "cell_type": "code",
   "execution_count": 2,
   "id": "61eb8f8d",
   "metadata": {},
   "outputs": [],
   "source": [
    "def read_nc(file_i):\n",
    "    \"\"\"Función que lee los archivos donde se almacenan las BT\n",
    "    diarias y devuelve cada componente\"\"\"\n",
    "    Variable = Dataset(file_i,'r')\n",
    "\n",
    "    dates  = np.array(Variable.variables['time'][:])\n",
    "\n",
    "    fechas = pd.to_datetime(\"1900-01-01 00:00:00\") \\\n",
    "                    + pd.to_timedelta(dates, unit='h')\n",
    "\n",
    "    lon_values = np.array(Variable.variables['lon'][:])\n",
    "    lat_values = np.array(Variable.variables['lat'][:])\n",
    "    plev_values = np.array(Variable.variables['level'][:]) #shape 24x241\n",
    "    fechas = np.array(fechas).reshape(plev_values.shape)\n",
    "    \n",
    "    return fechas, plev_values, lat_values, lon_values\n",
    "\n",
    "def meters_to_degrees(meters):\n",
    "    r_earth = 6378000  ##Radio de la tierra en meters\n",
    "    return ((meters *180) / (r_earth*np.pi))\n",
    "\n",
    "def search_fire(lon,lat, poligono):\n",
    "    \"\"\"saber si un punto x,y está o no dentro de un polygon\"\"\"\n",
    "    aa = ss.Point([lon,lat])\n",
    "    return poligono.contains(aa)\n",
    "\n",
    "df_IFRP = []\n",
    "archivos = np.sort(glob.glob(os.path.join(path_files, \n",
    "                            '*800hPa**10days*.nc')))\n",
    "\n",
    "archivos_procesados = [x[len(path_files):-3].split('.')[-2] \\\n",
    "                           for x in  archivos] "
   ]
  },
  {
   "cell_type": "markdown",
   "id": "1027004d",
   "metadata": {},
   "source": [
    "# Generar IFRP de un día hacia atrás"
   ]
  },
  {
   "cell_type": "code",
   "execution_count": null,
   "id": "bd08c1d1",
   "metadata": {},
   "outputs": [],
   "source": [
    "## Cada archivo contiene 24 BT (una por hora), cada una con 10 días hacia atrás\n",
    "## o sea 240 horas en el pasado \n",
    "## En cada BT horaria se genera el IFRP para diferentes radios \n",
    "print(len(archivos[:]))\n",
    "for arch in archivos[:]:\n",
    "    print(arch)\n",
    "    fechas, plev_values, lat_values, lon_values = read_nc(arch)\n",
    "    [dates_dim, back_step_dim] = fechas.shape\n",
    "    '''\n",
    "    dates_dim:      dimensión de las fechas a partir de las cuales se van a \n",
    "                    calcular las trayectorias\n",
    "    back_step_dim:  dimensión de las fechas en retroceso de la retrotrayectoria \n",
    "    '''  \n",
    "    for dt_i in (range(dates_dim)):\n",
    "        print(\"hora del archivo\", dt_i)  \n",
    "        ind_dias_atras = 1*24\n",
    "        lat_i = lat_values[dt_i,:ind_dias_atras] #todas las latitudes de la retrotrayectoria iniciada en el timepo dt_i\n",
    "        lon_i = lon_values[dt_i,:ind_dias_atras]        \n",
    "        lat_i = lat_i[~np.isnan(lat_i)]\n",
    "        lon_i = lon_i[~np.isnan(lon_i)]\n",
    "        \n",
    "        geom_list = [(x, y) for x, y  in zip([lon_i], [lat_i])]\n",
    "        geom_list_2 = LineString((zip(lon_i, lat_i)))\n",
    "        list_IFRP = []\n",
    "        list_IFRP.append(str(fechas[:,0][dt_i]))\n",
    "        fechas_i = fechas[dt_i][~np.isnan(fechas[dt_i])]\n",
    "        for rad in range(50_000,800_000,50_000):\n",
    "            grado = meters_to_degrees(rad)\n",
    "            poligon_buffer = geom_list_2.buffer(grado)\n",
    "            IFRP = 0\n",
    "#             print('Hola')\n",
    "#             print(str(pd.to_datetime(fechas_i[0])-dt.timedelta(days=4)),str(pd.to_datetime(fechas_i[0])))\n",
    "            fires_retro = df_fires[str(pd.to_datetime(fechas_i[0])-dt.timedelta(days=4.5)):str(pd.to_datetime(fechas_i[0]))]\n",
    "#             print(\"los incendios para esa BT son: \", fires_retro.shape)\n",
    "#             print(fires_retro)\n",
    "            for fire in range(len(fires_retro)):\n",
    "                lat_fire = fires_retro[\"latitude\"][fire]\n",
    "                lon_fire = fires_retro[\"longitude\"][fire]\n",
    "                aa = search_fire(lon_fire, lat_fire, poligon_buffer)\n",
    "                if aa:\n",
    "                    IFRP = IFRP + fires_retro[\"frp\"][fire]\n",
    "#             print(f\"IFRP de el radio {rad} \",IFRP)\n",
    "            list_IFRP.append(IFRP)\n",
    "        df_IFRP.append(list_IFRP)\n",
    "        \n",
    "    df_IFRP_2 = pd.DataFrame(df_IFRP)\n",
    "    df_IFRP_2.to_csv(\"/var/data1/AQ_Forecast_DATA/historic/Fires/Processed/IFRP_Radios_800hpa_1dia.csv\")"
   ]
  }
 ],
 "metadata": {
  "kernelspec": {
   "display_name": "jsperezc-Python3",
   "language": "python",
   "name": "jsperezc"
  },
  "language_info": {
   "codemirror_mode": {
    "name": "ipython",
    "version": 3
   },
   "file_extension": ".py",
   "mimetype": "text/x-python",
   "name": "python",
   "nbconvert_exporter": "python",
   "pygments_lexer": "ipython3",
   "version": "3.9.7"
  }
 },
 "nbformat": 4,
 "nbformat_minor": 5
}
